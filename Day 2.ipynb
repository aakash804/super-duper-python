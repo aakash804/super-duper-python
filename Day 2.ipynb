{
 "cells": [
  {
   "cell_type": "code",
   "execution_count": 5,
   "metadata": {},
   "outputs": [
    {
     "name": "stdout",
     "output_type": "stream",
     "text": [
      "enter a number: -87\n",
      "you have entered a negative number\n",
      "Good Luck\n"
     ]
    }
   ],
   "source": [
    "## simple if statement  and if-else statement..........\n",
    "\n",
    "x = int(input(\"enter a number: \"))\n",
    "if x<0:\n",
    "    print(\"you have entered a negative number\")      ## Indentation(when you press it enter after colon)\n",
    "else:\n",
    "    print(\"you have entered a positive number\")\n",
    " \n",
    "print('Good Luck')"
   ]
  },
  {
   "cell_type": "code",
   "execution_count": 8,
   "metadata": {},
   "outputs": [
    {
     "name": "stdout",
     "output_type": "stream",
     "text": [
      "enter a marks: 67\n",
      "you Passed the Examination. Congratulations!!\n",
      "Good Luck\n"
     ]
    }
   ],
   "source": [
    "x = int(input(\"enter a marks: \"))\n",
    "if x>40:\n",
    "    print(\"you Passed the Examination. Congratulations!!\")      ## Indentation(when you press it enter after colon)\n",
    "else:\n",
    "    print(\"you Failed the examination. Dont worry!!\")\n",
    " \n",
    "print('Good Luck')"
   ]
  },
  {
   "cell_type": "code",
   "execution_count": 12,
   "metadata": {},
   "outputs": [
    {
     "name": "stdout",
     "output_type": "stream",
     "text": [
      "Enter the Marks: 22\n",
      "Fail!!\n"
     ]
    }
   ],
   "source": [
    "## if-elif statement...................\n",
    "\n",
    "marks=float(input(\"Enter the Marks: \"))\n",
    "if marks >=80:\n",
    "    print(\"First Class with Distinction\")\n",
    "elif marks>=60 and marks < 80:\n",
    "    print(\"First Class\")\n",
    "elif marks>=50 and marks < 60:\n",
    "    print(\"Second Class\")\n",
    "elif marks>=35 and marks <50:\n",
    "    print(\"Third Class\")\n",
    "else:\n",
    "    print(\"Fail!!\")\n"
   ]
  },
  {
   "cell_type": "code",
   "execution_count": 14,
   "metadata": {},
   "outputs": [
    {
     "name": "stdout",
     "output_type": "stream",
     "text": [
      "Enter the Marks: 97\n",
      "Distinction\n"
     ]
    }
   ],
   "source": [
    "## Nested statements.......\n",
    "\n",
    "marks=float(input(\"Enter the Marks: \"))\n",
    "if marks>=70:\n",
    "    if marks<80:\n",
    "        print(\"First Class\")\n",
    "    else:\n",
    "        print(\"Distinction\")\n",
    "        "
   ]
  },
  {
   "cell_type": "code",
   "execution_count": 16,
   "metadata": {},
   "outputs": [
    {
     "name": "stdout",
     "output_type": "stream",
     "text": [
      "Enter your name: Aakash Sharma\n",
      "Hello Aakash Sharma\n"
     ]
    }
   ],
   "source": [
    "## Q1 program to input from the user and ask the name and welcome you.\n",
    "\n",
    "a=input(\"Enter your name: \")\n",
    "print ('Hello', a)"
   ]
  },
  {
   "cell_type": "code",
   "execution_count": 24,
   "metadata": {},
   "outputs": [
    {
     "name": "stdout",
     "output_type": "stream",
     "text": [
      "How many hours you work? 22\n",
      "How much you paid per hour? 600\n",
      "Your gross pay is:  13200.0\n"
     ]
    }
   ],
   "source": [
    "## Q2 program to input from the user and ask the hours and pay for compute the gross pay.\n",
    "\n",
    "h=int(input(\"How many hours you work? \"))\n",
    "p=float(input(\"How much you paid per hour? \"))\n",
    "g=h*p\n",
    "print(\"Your gross pay is: \", g)"
   ]
  },
  {
   "cell_type": "code",
   "execution_count": 22,
   "metadata": {},
   "outputs": [
    {
     "name": "stdout",
     "output_type": "stream",
     "text": [
      "what is the celsius temperature? 21\n",
      "Farenheit temperature is:  69.8\n"
     ]
    }
   ],
   "source": [
    "## Q3 program to input from the user and ask the celsius temperature and convert celsius to farenheit and print converted temp..\n",
    "\n",
    "celsius=float(input(\"what is the celsius temperature? \"))\n",
    "farenheit=(celsius*9/5)+ 32\n",
    "print('Farenheit temperature is: ',farenheit)"
   ]
  },
  {
   "cell_type": "markdown",
   "metadata": {},
   "source": [
    "## Iterative Statements"
   ]
  },
  {
   "cell_type": "code",
   "execution_count": 26,
   "metadata": {},
   "outputs": [
    {
     "name": "stdout",
     "output_type": "stream",
     "text": [
      "0\n",
      "1\n",
      "2\n",
      "3\n",
      "4\n",
      "5\n",
      "Game Over!!\n"
     ]
    }
   ],
   "source": [
    "## While Loop...........\n",
    "\n",
    "x=0\n",
    "while x<=5:\n",
    "    print(x)\n",
    "    x=x+1\n",
    "print(\"Game Over!!\")"
   ]
  },
  {
   "cell_type": "code",
   "execution_count": 1,
   "metadata": {},
   "outputs": [
    {
     "name": "stdout",
     "output_type": "stream",
     "text": [
      "Enter a number: -43\n",
      "Enter a number: -4\n",
      "Enter a number: 54\n",
      "Positive number\n"
     ]
    }
   ],
   "source": [
    "## break Statement\n",
    "\n",
    "while True:\n",
    "    num=int(input(\"Enter a number: \"))\n",
    "    if num>0:\n",
    "        print(\"Positive number\")\n",
    "        break"
   ]
  },
  {
   "cell_type": "code",
   "execution_count": 17,
   "metadata": {},
   "outputs": [
    {
     "name": "stdout",
     "output_type": "stream",
     "text": [
      "Enter the number: 53\n",
      "Enter the number: 64\n",
      "Enter the number: 53\n",
      "Enter the number: 53\n",
      "Enter the number: 6\n",
      "Enter the number: 24\n",
      "Enter the number: 6\n",
      "Enter the number: 24\n",
      "Enter the number: -43\n",
      "You have entered the negative number!!\n",
      "sumn of a positive numbers:  283\n"
     ]
    }
   ],
   "source": [
    "## Q keep reading numbers till you enter a negative number. find the sum of all the positive numbers. and display\n",
    "\n",
    "Sum=0\n",
    "while True :\n",
    "    number=int(input(\"Enter the number: \"))\n",
    "    if number<0:\n",
    "        print(\"You have entered the negative number!!\")\n",
    "        break\n",
    "    else:\n",
    "        Sum= Sum+number\n",
    "print(\"sumn of a positive numbers: \", Sum)"
   ]
  },
  {
   "cell_type": "code",
   "execution_count": null,
   "metadata": {},
   "outputs": [
    {
     "name": "stdout",
     "output_type": "stream",
     "text": [
      "Enter the number: 34\n",
      "You have entered 34\n",
      "Enter the number: 54\n",
      "You have entered 54\n",
      "Enter the number: 65\n",
      "You have entered 65\n",
      "Enter the number: -35\n",
      "Enter the number: -35\n"
     ]
    }
   ],
   "source": [
    "## Continue Statement.....\n",
    "# It will skip the further statement in the loop and continue with the next iteration of the loop\n",
    "\n",
    "n=1\n",
    "while n<=5:\n",
    "    x=int(input(\"Enter the number: \"))\n",
    "    if x<0:\n",
    "        continue       \n",
    "    print('You have entered', x)\n",
    "    n=n+1\n",
    "    "
   ]
  },
  {
   "cell_type": "code",
   "execution_count": 1,
   "metadata": {},
   "outputs": [
    {
     "name": "stdout",
     "output_type": "stream",
     "text": [
      "0\n",
      "1\n",
      "2\n",
      "3\n",
      "4\n"
     ]
    }
   ],
   "source": [
    "## for loop \n",
    "\n",
    "for i in range(5):\n",
    "    print(i)"
   ]
  },
  {
   "cell_type": "code",
   "execution_count": 2,
   "metadata": {},
   "outputs": [],
   "source": [
    "# syntax of range function: range(start, end, stride)"
   ]
  },
  {
   "cell_type": "code",
   "execution_count": 3,
   "metadata": {},
   "outputs": [
    {
     "name": "stdout",
     "output_type": "stream",
     "text": [
      "10\n",
      "11\n",
      "12\n",
      "13\n",
      "14\n",
      "15\n",
      "16\n",
      "17\n",
      "18\n",
      "19\n"
     ]
    }
   ],
   "source": [
    "for i in range (10,20):\n",
    "    print(i)"
   ]
  },
  {
   "cell_type": "code",
   "execution_count": 4,
   "metadata": {},
   "outputs": [
    {
     "name": "stdout",
     "output_type": "stream",
     "text": [
      "10\n",
      "12\n",
      "14\n",
      "16\n",
      "18\n"
     ]
    }
   ],
   "source": [
    "for i in range(10,20,2):\n",
    "    print(i)"
   ]
  },
  {
   "cell_type": "code",
   "execution_count": 5,
   "metadata": {},
   "outputs": [
    {
     "name": "stdout",
     "output_type": "stream",
     "text": [
      "20\n",
      "18\n",
      "16\n",
      "14\n",
      "12\n"
     ]
    }
   ],
   "source": [
    "for i in range(20,10,-2):\n",
    "    print(i)"
   ]
  },
  {
   "cell_type": "code",
   "execution_count": 6,
   "metadata": {},
   "outputs": [
    {
     "name": "stdout",
     "output_type": "stream",
     "text": [
      "H\n",
      "e\n",
      "l\n",
      "l\n",
      "o\n"
     ]
    }
   ],
   "source": [
    "for x in 'Hello':\n",
    "    print(x)"
   ]
  },
  {
   "cell_type": "code",
   "execution_count": 9,
   "metadata": {},
   "outputs": [
    {
     "name": "stdout",
     "output_type": "stream",
     "text": [
      "(0, 0)\n",
      "(0, 1)\n",
      "(0, 2)\n",
      "(0, 3)\n",
      "(1, 0)\n",
      "(1, 1)\n",
      "(1, 2)\n",
      "(1, 3)\n",
      "(2, 0)\n",
      "(2, 1)\n",
      "(2, 2)\n",
      "(2, 3)\n"
     ]
    }
   ],
   "source": [
    "## Nested Loops\n",
    "\n",
    "for i in range(3):\n",
    "    for j in range(4):\n",
    "        print((i,j))"
   ]
  },
  {
   "cell_type": "markdown",
   "metadata": {},
   "source": [
    "## User Define Functions"
   ]
  },
  {
   "cell_type": "code",
   "execution_count": 12,
   "metadata": {},
   "outputs": [
    {
     "name": "stdout",
     "output_type": "stream",
     "text": [
      "Illustration to user-defined function\n",
      "Function to say hello!!\n",
      "Hello!!\n",
      "Over!!\n",
      "print again calling function\n",
      "Function to say hello!!\n",
      "Hello!!\n",
      "Over again!!\n"
     ]
    }
   ],
   "source": [
    "def fname():\n",
    "    print(\"Function to say hello!!\")\n",
    "    print('Hello!!')\n",
    "\n",
    "print(\"Illustration to user-defined function\")\n",
    "fname()                                                      ## calling function or function invoked\n",
    "print(\"Over!!\")\n",
    "\n",
    "\n",
    "print('print again calling function')\n",
    "fname()\n",
    "print(\"Over again!!\")\n"
   ]
  },
  {
   "cell_type": "code",
   "execution_count": 17,
   "metadata": {},
   "outputs": [
    {
     "name": "stdout",
     "output_type": "stream",
     "text": [
      "Example of function with argument\n",
      "Inside test()\n",
      "Argument is  hello\n",
      "Inside test()\n",
      "Argument is  20\n",
      "Over!!\n"
     ]
    }
   ],
   "source": [
    "def test(var):\n",
    "    print(\"Inside test()\")\n",
    "    print(\"Argument is \", var)\n",
    "\n",
    "print(\"Example of function with argument\")\n",
    "x=\"hello\"\n",
    "test(x)\n",
    "y=20\n",
    "test(y)\n",
    "print(\"Over!!\")\n"
   ]
  },
  {
   "cell_type": "code",
   "execution_count": 18,
   "metadata": {},
   "outputs": [
    {
     "name": "stdout",
     "output_type": "stream",
     "text": [
      "Example of function with argument\n",
      "Inside test()\n",
      "Argument is  hellohellohello\n",
      "Inside test()\n",
      "Argument is  60\n",
      "Over!!\n"
     ]
    }
   ],
   "source": [
    "def test(var):\n",
    "    print(\"Inside test()\")\n",
    "    print(\"Argument is \", var)\n",
    "\n",
    "print(\"Example of function with argument\")\n",
    "x=\"hello\"\n",
    "test(x*3)\n",
    "y=20\n",
    "test(y*3)\n",
    "print(\"Over!!\")\n"
   ]
  },
  {
   "cell_type": "code",
   "execution_count": 22,
   "metadata": {},
   "outputs": [
    {
     "name": "stdout",
     "output_type": "stream",
     "text": [
      "10\n",
      "Hello\n",
      "3.2\n"
     ]
    }
   ],
   "source": [
    "## Multiple Assignment\n",
    "\n",
    "x, y, z = 10, 'Hello', 3.2\n",
    "print(x, y, z, sep=\"\\n\")\n"
   ]
  },
  {
   "cell_type": "code",
   "execution_count": 30,
   "metadata": {},
   "outputs": [
    {
     "name": "stdout",
     "output_type": "stream",
     "text": [
      "Enter 1st number: 43\n",
      "Enter 2nd number: 23\n",
      "989\n"
     ]
    }
   ],
   "source": [
    "## function with return value\n",
    "\n",
    "def product(m,n):\n",
    "    p=m*n\n",
    "    return p\n",
    "\n",
    "x=int(input(\"Enter 1st number: \"))\n",
    "y=int(input(\"Enter 2nd number: \"))\n",
    "\n",
    "pr = product(x,y)\n",
    "print(pr)"
   ]
  },
  {
   "cell_type": "code",
   "execution_count": 45,
   "metadata": {},
   "outputs": [
    {
     "name": "stdout",
     "output_type": "stream",
     "text": [
      "Enter 1st number: 6\n",
      "Enter 2nd number: 8\n",
      "1296\n"
     ]
    }
   ],
   "source": [
    "## Another example\n",
    "\n",
    "def h(m,n):\n",
    "    ans=1\n",
    "    while(n>0):\n",
    "        (ans,n)= (ans*m, n-2)\n",
    "    return ans\n",
    "\n",
    "x=int(input(\"Enter 1st number: \"))\n",
    "y=int(input(\"Enter 2nd number: \"))\n",
    "\n",
    "num = h(x,y)\n",
    "print(num)"
   ]
  },
  {
   "cell_type": "code",
   "execution_count": 39,
   "metadata": {},
   "outputs": [
    {
     "name": "stdout",
     "output_type": "stream",
     "text": [
      "Enter a non-negative integer: 4\n",
      "Factorial of  4 is  24\n"
     ]
    }
   ],
   "source": [
    "def f(m):\n",
    "    if m== 0:\n",
    "        return(1)\n",
    "    else:\n",
    "        return(m*f(m-1))\n",
    "    \n",
    "n= int(input(\"Enter a non-negative integer: \"))\n",
    "\n",
    "if n<0:\n",
    "    print(\"Invalid input!!\")\n",
    "else:\n",
    "    fact = f(n)\n",
    "    print('Factorial of ', n, 'is ', fact)"
   ]
  },
  {
   "cell_type": "code",
   "execution_count": 6,
   "metadata": {},
   "outputs": [
    {
     "name": "stdout",
     "output_type": "stream",
     "text": [
      "Enter the positive number43\n",
      "False\n"
     ]
    }
   ],
   "source": [
    "## Q A positive integer m is a sum of squares if it can be written as k+p where k>0, p>0 and both k and p are perfect squares.\n",
    "## write a python function sumofsquares(m) that takes an integer m returns True if m is a sum of square and false otherwise.\n",
    "\n",
    "def sumofsquares(x):\n",
    "    flag=False\n",
    "    '''if (x<0):\n",
    "        return False'''\n",
    "    for i in range(0,x):\n",
    "        for j in range(0,x):\n",
    "            if (i*i)+(j*j)==x:\n",
    "                    flag= True\n",
    "                    break\n",
    "                \n",
    "\n",
    "    return flag\n",
    "        \n",
    "m=int(input(\"Enter the positive number\"))\n",
    "ans=sumofsquares(m)\n",
    "print(ans)"
   ]
  },
  {
   "cell_type": "markdown",
   "metadata": {},
   "source": [
    "## Strings\n",
    "\n",
    "- String is a collection of characters enclosed within single quotes or double quotes\n",
    "- string are immutable that means it cannot be modified"
   ]
  },
  {
   "cell_type": "code",
   "execution_count": 44,
   "metadata": {},
   "outputs": [
    {
     "name": "stdout",
     "output_type": "stream",
     "text": [
      "<class 'str'>\n"
     ]
    }
   ],
   "source": [
    "s= 'hello'\n",
    "print(type(s))"
   ]
  },
  {
   "cell_type": "code",
   "execution_count": 59,
   "metadata": {},
   "outputs": [
    {
     "data": {
      "text/plain": [
       "5"
      ]
     },
     "execution_count": 59,
     "metadata": {},
     "output_type": "execute_result"
    }
   ],
   "source": [
    "len(s)"
   ]
  },
  {
   "cell_type": "code",
   "execution_count": 61,
   "metadata": {},
   "outputs": [
    {
     "ename": "TypeError",
     "evalue": "'str' object does not support item assignment",
     "output_type": "error",
     "traceback": [
      "\u001b[1;31m---------------------------------------------------------------------------\u001b[0m",
      "\u001b[1;31mTypeError\u001b[0m                                 Traceback (most recent call last)",
      "\u001b[1;32m<ipython-input-61-110d4cbd33e9>\u001b[0m in \u001b[0;36m<module>\u001b[1;34m\u001b[0m\n\u001b[1;32m----> 1\u001b[1;33m \u001b[0ms\u001b[0m\u001b[1;33m[\u001b[0m\u001b[1;36m1\u001b[0m\u001b[1;33m]\u001b[0m\u001b[1;33m=\u001b[0m\u001b[1;34m'd'\u001b[0m      \u001b[1;31m## it cannot be modified\u001b[0m\u001b[1;33m\u001b[0m\u001b[1;33m\u001b[0m\u001b[0m\n\u001b[0m",
      "\u001b[1;31mTypeError\u001b[0m: 'str' object does not support item assignment"
     ]
    }
   ],
   "source": [
    "s[1]='d'      ## it cannot be modified"
   ]
  },
  {
   "cell_type": "code",
   "execution_count": 62,
   "metadata": {},
   "outputs": [
    {
     "name": "stdout",
     "output_type": "stream",
     "text": [
      "o\n",
      "e\n"
     ]
    }
   ],
   "source": [
    "## Negative Indexing - starts from the end of the string.\n",
    "## Last character is indexed as -1\n",
    "\n",
    "var='hello'\n",
    "print(var[-1])\n",
    "print(var[-4])"
   ]
  },
  {
   "cell_type": "markdown",
   "metadata": {},
   "source": [
    "## string slicing"
   ]
  },
  {
   "cell_type": "code",
   "execution_count": 65,
   "metadata": {},
   "outputs": [
    {
     "name": "stdout",
     "output_type": "stream",
     "text": [
      "Hello\n",
      "Hell\n",
      "lo Wo\n",
      "orld\n",
      "\n",
      "Hello World\n"
     ]
    }
   ],
   "source": [
    "st='Hello World'\n",
    "print(st[0:5])\n",
    "print(st[:4])\n",
    "print(st[3:8])\n",
    "print(st[7:])\n",
    "print(st[4:4])\n",
    "print(st[:])"
   ]
  },
  {
   "cell_type": "code",
   "execution_count": 66,
   "metadata": {},
   "outputs": [
    {
     "name": "stdout",
     "output_type": "stream",
     "text": [
      "Helto World\n"
     ]
    }
   ],
   "source": [
    "## Replacing the string with another character by default string is immutable....\n",
    "\n",
    "st='Hello World'\n",
    "\n",
    "st1= st[:3]+\"t\"+st[4:]\n",
    "print(st1)"
   ]
  },
  {
   "cell_type": "markdown",
   "metadata": {},
   "source": [
    "## Built-in methods of strings"
   ]
  },
  {
   "cell_type": "code",
   "execution_count": 67,
   "metadata": {},
   "outputs": [
    {
     "data": {
      "text/plain": [
       "['__add__',\n",
       " '__class__',\n",
       " '__contains__',\n",
       " '__delattr__',\n",
       " '__dir__',\n",
       " '__doc__',\n",
       " '__eq__',\n",
       " '__format__',\n",
       " '__ge__',\n",
       " '__getattribute__',\n",
       " '__getitem__',\n",
       " '__getnewargs__',\n",
       " '__gt__',\n",
       " '__hash__',\n",
       " '__init__',\n",
       " '__init_subclass__',\n",
       " '__iter__',\n",
       " '__le__',\n",
       " '__len__',\n",
       " '__lt__',\n",
       " '__mod__',\n",
       " '__mul__',\n",
       " '__ne__',\n",
       " '__new__',\n",
       " '__reduce__',\n",
       " '__reduce_ex__',\n",
       " '__repr__',\n",
       " '__rmod__',\n",
       " '__rmul__',\n",
       " '__setattr__',\n",
       " '__sizeof__',\n",
       " '__str__',\n",
       " '__subclasshook__',\n",
       " 'capitalize',\n",
       " 'casefold',\n",
       " 'center',\n",
       " 'count',\n",
       " 'encode',\n",
       " 'endswith',\n",
       " 'expandtabs',\n",
       " 'find',\n",
       " 'format',\n",
       " 'format_map',\n",
       " 'index',\n",
       " 'isalnum',\n",
       " 'isalpha',\n",
       " 'isascii',\n",
       " 'isdecimal',\n",
       " 'isdigit',\n",
       " 'isidentifier',\n",
       " 'islower',\n",
       " 'isnumeric',\n",
       " 'isprintable',\n",
       " 'isspace',\n",
       " 'istitle',\n",
       " 'isupper',\n",
       " 'join',\n",
       " 'ljust',\n",
       " 'lower',\n",
       " 'lstrip',\n",
       " 'maketrans',\n",
       " 'partition',\n",
       " 'replace',\n",
       " 'rfind',\n",
       " 'rindex',\n",
       " 'rjust',\n",
       " 'rpartition',\n",
       " 'rsplit',\n",
       " 'rstrip',\n",
       " 'split',\n",
       " 'splitlines',\n",
       " 'startswith',\n",
       " 'strip',\n",
       " 'swapcase',\n",
       " 'title',\n",
       " 'translate',\n",
       " 'upper',\n",
       " 'zfill']"
      ]
     },
     "execution_count": 67,
     "metadata": {},
     "output_type": "execute_result"
    }
   ],
   "source": [
    "dir(str)"
   ]
  },
  {
   "cell_type": "code",
   "execution_count": 68,
   "metadata": {},
   "outputs": [],
   "source": [
    "#### If i want to know which method is doing what then this command will help.............\n",
    "?str.rstrip"
   ]
  },
  {
   "cell_type": "code",
   "execution_count": 69,
   "metadata": {},
   "outputs": [
    {
     "data": {
      "text/plain": [
       "'Hello world'"
      ]
     },
     "execution_count": 69,
     "metadata": {},
     "output_type": "execute_result"
    }
   ],
   "source": [
    "### Only first character will be converted to capital letter\n",
    "\n",
    "str.capitalize(\"hello world\")"
   ]
  },
  {
   "cell_type": "code",
   "execution_count": 70,
   "metadata": {},
   "outputs": [
    {
     "data": {
      "text/plain": [
       "'Hello world'"
      ]
     },
     "execution_count": 70,
     "metadata": {},
     "output_type": "execute_result"
    }
   ],
   "source": [
    "str.capitalize(\"hello WORld\")"
   ]
  },
  {
   "cell_type": "code",
   "execution_count": 71,
   "metadata": {},
   "outputs": [
    {
     "name": "stdout",
     "output_type": "stream",
     "text": [
      "HELLO\n"
     ]
    }
   ],
   "source": [
    "st=\"hello\"\n",
    "st1= st.upper()\n",
    "print(st1)"
   ]
  },
  {
   "cell_type": "code",
   "execution_count": 72,
   "metadata": {},
   "outputs": [
    {
     "name": "stdout",
     "output_type": "stream",
     "text": [
      "hello\n"
     ]
    }
   ],
   "source": [
    "## Original string unchanged.............\n",
    "print(st)"
   ]
  },
  {
   "cell_type": "code",
   "execution_count": 73,
   "metadata": {},
   "outputs": [
    {
     "name": "stdout",
     "output_type": "stream",
     "text": [
      "hello\n"
     ]
    }
   ],
   "source": [
    "# similarly the function lower().............\n",
    "stl=\"HELlo\"\n",
    "st2= stl.lower()\n",
    "print(st2)"
   ]
  },
  {
   "cell_type": "code",
   "execution_count": null,
   "metadata": {},
   "outputs": [],
   "source": []
  }
 ],
 "metadata": {
  "kernelspec": {
   "display_name": "Python 3",
   "language": "python",
   "name": "python3"
  },
  "language_info": {
   "codemirror_mode": {
    "name": "ipython",
    "version": 3
   },
   "file_extension": ".py",
   "mimetype": "text/x-python",
   "name": "python",
   "nbconvert_exporter": "python",
   "pygments_lexer": "ipython3",
   "version": "3.7.3"
  }
 },
 "nbformat": 4,
 "nbformat_minor": 2
}
